{
 "cells": [
  {
   "cell_type": "code",
   "execution_count": 1,
   "metadata": {
    "collapsed": false
   },
   "outputs": [
    {
     "name": "stderr",
     "output_type": "stream",
     "text": [
      "Warning: imported binding for DL_LOAD_PATH overwritten in module BinDeps\n"
     ]
    },
    {
     "data": {
      "text/plain": [
       "bin2hex (generic function with 1 method)"
      ]
     },
     "execution_count": 1,
     "metadata": {},
     "output_type": "execute_result"
    }
   ],
   "source": [
    "using Requests\n",
    "\n",
    "function letmesee(guess::String)\n",
    "    if get(target*guess).status==404\n",
    "        return true\n",
    "        else\n",
    "            return false\n",
    "    end\n",
    "end\n",
    "\n",
    "\n",
    "function hex2bin(s::ASCIIString)\n",
    "    len = length(s)\n",
    "    if isodd(len)\n",
    "        error(\"Input string length should be even\")\n",
    "    end\n",
    "    arr = zeros(Uint8, div(len,2))\n",
    "    i = j = 0\n",
    "    while i < len\n",
    "        n = 0\n",
    "        c = s[i+=1]\n",
    "        n = '0' <= c <= '9' ? c - '0' :\n",
    "            'a' <= c <= 'f' ? c - 'a' + 10 :\n",
    "            'A' <= c <= 'F' ? c - 'A' + 10 : error(\"Input string isn't a hexadecimal string\")\n",
    "        c = s[i+=1]\n",
    "        n = '0' <= c <= '9' ? n << 4 + c - '0' :\n",
    "            'a' <= c <= 'f' ? n << 4 + c - 'a' + 10 :\n",
    "            'A' <= c <= 'F' ? n << 4 + c - 'A' + 10 : error(\"Input string isn't a hexadecimal string\")\n",
    "        arr[j+=1] = n\n",
    "    end\n",
    "    return arr\n",
    "end\n",
    "\n",
    "bin2hex(arr::Array{Uint8,1}) = join([hex(i, 2) for i in arr])"
   ]
  },
  {
   "cell_type": "code",
   "execution_count": 2,
   "metadata": {
    "collapsed": false
   },
   "outputs": [
    {
     "name": "stdout",
     "output_type": "stream",
     "text": [
      "[Uint8[32,115,100,114,111,87,32,99,105,103,97,77,32,101,104,84],Uint8[115,79,32,104,115,105,109,97,101,117,113,83,32,101,114,97],Uint8[9,9,9,9,9,9,9,9,9,101,103,97,114,102,105,115]]\n"
     ]
    },
    {
     "data": {
      "text/plain": [
       "\"The Magic Words are Squeamish Ossifrage\\t\\t\\t\\t\\t\\t\\t\\t\\t\""
      ]
     },
     "execution_count": 2,
     "metadata": {},
     "output_type": "execute_result"
    }
   ],
   "source": [
    "target = \"http://crypto-class.appspot.com/po?er=\"\n",
    "crypted= \"f20bdba6ff29eed7b046d1df9fb7000058b1ffb4210a580f748b4ac714c001bd4a61044426fb515dad3f21f18aa577c0bdf302936266926ff37dbf7035d5eeb4\"\n",
    "data=hex2bin(crypted)\n",
    "blocks=Array[] \n",
    "clair=[Uint8[] for i=1:3]\n",
    "\n",
    "for i=1:int(length(data)/16)\n",
    "    push!(blocks,data[(i-1)*16+1:(i-1)*16+16])\n",
    "end\n",
    "\n",
    "\n",
    "\n",
    "\n",
    "for h=1:3\n",
    "    pad=convert(Uint8,1)\n",
    "    block=Uint8[i for i in blocks[h]]\n",
    "    block[end-1]=block[end-1]$1\n",
    "    \n",
    "    for i=0:255\n",
    "        g=convert(Uint8,i)\n",
    "        block[end]=blocks[h][end]$g$pad\n",
    "        guess=bin2hex(block)*bin2hex(blocks[h+1])\n",
    "        if letmesee(guess)\n",
    "#             println(char(g))\n",
    "            push!(clair[h],g)\n",
    "            break\n",
    "        end\n",
    "    end\n",
    "\n",
    "\n",
    "    for k=2:16\n",
    "        pad=convert(Uint8,k)\n",
    "        block=Uint8[i for i in blocks[h]]\n",
    "\n",
    "        for j=1:k-1\n",
    "            block[end-j+1]=block[end-j+1]$clair[h][j]$pad\n",
    "        end\n",
    "\n",
    "        for i=0:255\n",
    "            g=convert(Uint8,i)\n",
    "            block[end-k+1]=blocks[h][end-k+1]$g$pad\n",
    "            guess=bin2hex(block)*bin2hex(blocks[h+1])\n",
    "            if letmesee(guess)\n",
    "#                 println(char(g))\n",
    "                push!(clair[h],g)\n",
    "                break\n",
    "            end\n",
    "        end\n",
    "    end\n",
    "end\n",
    "\n",
    "println(clair)\n",
    "\n",
    "reverse(join(map(char,clair[1])))*reverse(join(map(char,clair[2])))*reverse(join(map(char,clair[3])))\n"
   ]
  }
 ],
 "metadata": {
  "kernelspec": {
   "display_name": "Julia 0.3.7",
   "language": "julia",
   "name": "julia 0.3"
  },
  "language_info": {
   "name": "julia",
   "version": "0.3.7"
  },
  "name": "copy_padding.ipynb"
 },
 "nbformat": 4,
 "nbformat_minor": 0
}
