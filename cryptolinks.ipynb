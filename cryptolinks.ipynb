{
 "cells": [
  {
   "cell_type": "markdown",
   "metadata": {
    "collapsed": true
   },
   "source": [
    "## Introduction\n",
    "\n",
    "* [intro](http://www.apprendre-en-ligne.net/crypto/bibliotheque/PDF/brisson.pdf)\n",
    "* [intro1](https://en.wikibooks.org/wiki/Cryptography/Introduction)\n",
    "* [cesar cipher](http://learncryptography.com/caesar-cipher/)\n",
    "\n",
    "## Bases of crypto\n",
    "\n",
    "* [shannon confusion, diffusion](https://en.wikipedia.org/wiki/Confusion_and_diffusion)\n",
    "* [one way functions](https://en.wikipedia.org/wiki/One-way_function)\n",
    "* [modular arithmetic](http://www.artofproblemsolving.com/wiki/index.php/Modular_arithmetic/Introduction)\n",
    "\n",
    "## importance of crypto\n",
    "\n",
    "* [cyberwar](http://www.genbeta.com/seguridad/stuxnet-historia-del-primer-arma-de-la-ciberguerra)\n",
    "* [multiparty computation implications](https://web.archive.org/web/20061230075325/http://www.theiia.org/ITAudit/index.cfm?act=itaudit.archive&fid=216)\n",
    "* [vote sistems](https://en.wikipedia.org/wiki/End-to-end_auditable_voting_systems)\n",
    "\n",
    "## Steganography\n",
    "\n",
    "* [micro-dots](https://en.wikipedia.org/wiki/Microdot)\n",
    "* [dna steg](http://www.apprendre-en-ligne.net/crypto/bibliotheque/PDF/nature.pdf)\n",
    "* [dna steg2](http://www.polestarltd.com/ttg/isspeeches/051403/index.html)\n",
    "* [dna crypt](https://users.cs.duke.edu/~reif/paper/DNAcrypt/crypt.talk/DNAcrypt.talk.pdf)\n",
    "* [dna crypt2](http://ls11-www.cs.uni-dortmund.de/molcomp/publications/DNACrypt.pdf)\n",
    "\n",
    "## some history\n",
    "\n",
    "* [enigma](http://www.bibmath.net/crypto/index.php?action=affiche&quoi=debvingt/enigmaguerre)\n",
    "* [great paris chiffer](http://apps.nationalarchives.gov.uk/spies/ciphers/scovell/sc1.htm)\n",
    "\n",
    "\n",
    "\n",
    "## crypto and art\n",
    "\n",
    "* [jules verne](http://www.apprendre-en-ligne.net/crypto/litterature/voyagecentre.html)\n",
    "* [crypt and poe](http://www.cs.trincoll.edu/~crypto/historical/poe.html)\n",
    "\n",
    "\n",
    "\n",
    "## crypto schemes\n",
    "\n",
    "* ### public key encryption\n",
    "\n",
    "* [diffie-hellman](https://en.wikipedia.org/wiki/Diffie%E2%80%93Hellman_key_exchange)\n",
    "* [publick key encryption](https://medium.com/@vrypan/explaining-public-key-cryptography-to-non-geeks-f0994b3c2d5)\n",
    "* [public encryption](http://learncryptography.com/public-key-encryption/)\n",
    "\n",
    "* ### Others\n",
    "\n",
    "* [zero-knowldege proofs](http://mathoverflow.net/questions/22624/example-of-a-good-zero-knowledge-proof)\n",
    "* [secret sharing](https://en.wikipedia.org/wiki/Secret_sharing)\n",
    "* [multiparty computations](https://en.wikipedia.org/wiki/Secure_multi-party_computation)\n",
    "* [yaos millionaire problem](http://twistedoakstudios.com/blog/Post3724_explain-it-like-im-five-the-socialist-millionaire-problem-and-secure-multi-party-computation)\n",
    "* [visual cryptography](https://en.wikipedia.org/wiki/Visual_cryptography)\n",
    "* [visual crypto python](https://github.com/LessonStudio/VisualCryptography/blob/master/visual_cryptography.py)\n",
    "\n",
    "## cryptanalysis\n",
    "* [birthday paradox](http://learncryptography.com/the-birthday-problem/)\n",
    "\n",
    "* [frecuency analysis](http://learncryptography.com/frequency-analysis/)\n",
    "\n",
    "# video of visual crypto\n",
    "* [visual crypt](https://www.youtube.com/watch?v=bb24mBADuG0)"
   ]
  },
  {
   "cell_type": "markdown",
   "metadata": {},
   "source": [
    "\n",
    "-----\n",
    "# plus de liens\n",
    "* [beaucoup de liens :)](http://www.apprendre-en-ligne.net/crypto/activites/index.html)\n",
    "\n",
    "# images\n",
    "* [mary](http://www.nationalarchives.gov.uk/spies/ciphers/mary/ma2_x.htm)\n",
    "\n"
   ]
  },
  {
   "cell_type": "code",
   "execution_count": 26,
   "metadata": {
    "collapsed": false
   },
   "outputs": [
    {
     "data": {
      "text/plain": [
       "'unmessagesécret'"
      ]
     },
     "execution_count": 26,
     "metadata": {},
     "output_type": "execute_result"
    }
   ],
   "source": [
    "t='Parbleu, les pions sont amoureux et les passerages ne les masquent guère. Un espoir assez ténébreux accessoirise le sentiment.'\n",
    "t=t.replace(',','') #removes commas, spaces, and dots\n",
    "t=t.replace(' ','')\n",
    "t=t.replace('.','')\n",
    "\n",
    "t[6::7]  # counts every 7'th word"
   ]
  },
  {
   "cell_type": "markdown",
   "metadata": {},
   "source": [
    "# chrome bug\n",
    "* [dont put your mouse here or chrome would crash!](http://a./%%30%30)"
   ]
  }
 ],
 "metadata": {
  "kernelspec": {
   "display_name": "Python 3",
   "language": "python",
   "name": "python3"
  },
  "language_info": {
   "codemirror_mode": {
    "name": "ipython",
    "version": 3
   },
   "file_extension": ".py",
   "mimetype": "text/x-python",
   "name": "python",
   "nbconvert_exporter": "python",
   "pygments_lexer": "ipython3",
   "version": "3.4.0"
  }
 },
 "nbformat": 4,
 "nbformat_minor": 0
}
